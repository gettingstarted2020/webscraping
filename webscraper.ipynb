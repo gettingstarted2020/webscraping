{
 "cells": [
  {
   "cell_type": "code",
   "execution_count": 1,
   "id": "198edba4-c168-4faa-bfa9-85a7960fc2b0",
   "metadata": {},
   "outputs": [],
   "source": [
    "from bs4 import BeautifulSoup\n",
    "import pandas as pd\n",
    "import requests"
   ]
  },
  {
   "cell_type": "code",
   "execution_count": 3,
   "id": "53d4f3ef-b66e-454a-a982-7f08aac701ce",
   "metadata": {},
   "outputs": [],
   "source": [
    "url='https://m.maharashtradirectory.com/product/plastic-products.html'\n",
    "page=requests.get(url)"
   ]
  },
  {
   "cell_type": "code",
   "execution_count": 6,
   "id": "4e96efc0-eb66-499d-abd3-cbdd4111b243",
   "metadata": {},
   "outputs": [],
   "source": [
    "soup=BeautifulSoup(page.text,\"html\")"
   ]
  },
  {
   "cell_type": "code",
   "execution_count": 21,
   "id": "a072c85a-adc6-40dd-88c7-e7cf8d8d30ae",
   "metadata": {},
   "outputs": [
    {
     "name": "stdout",
     "output_type": "stream",
     "text": [
      "['SAI PRECISION TOOLS', 'PRADIP PLASTIC MOULDERS PVT. LTD.', 'PVG AUTOMOTIVE PVT.LTD.', 'V.DIPESH KUMAR AND CO.', 'NIRU PLASTICS PVT.LTD.', 'V.D.EXPORTS', 'B & K PLASTOCRATS', 'PLASTORANGER ADVANCED TECHNOLOGIES PRIVATE LIMITED', 'ANJALI ENTERPRISES', 'METALON MARKETING SERVICES', 'VIKRAM INDUSTRIES', 'G.S AZAD INDUSTRY', 'KMS PLASTWORLD', 'DANIEL AND SONS', 'I.C. ENTERPRISES', 'SILICOTEK SPECIALITY ELASTOMERS PVT.LTD.', 'SKV PLASTIC INDUSTRIES', 'HASVARTH ENTERPRISES', 'VIJAY AND COMPANY', 'NIKITA PET JARS', 'KRISHNA AUTO INDUSTRIES', 'DELTA RUBBER INDUSTRIES', 'PUSHTI CRATES & BINS', 'JATIN PLASTIC', 'PLASTO CONNECT PVT.LTD.', 'VA HYSROPONICS SOLUTION', 'FUN ART DECOR PVT.LTD.', 'MEDINOVA', 'AMAN INDUSTRIES', 'BHAMA ENTERPRISES (I) PVT. LTD', 'FLAMEX PLAST FAB PVT. LTD.', 'JALARAM ENTERPRISES', 'PACT PLAST', 'RUCHI TECHNOPLAST', 'VOLWO INDUSTRIES', 'CHIRAG LAMINATES PVT.LTD.', 'M.S. TRADERS', 'NDG IMPORT EXPORT', 'NEMCHAND ENGINEERING WORKS', 'SAMRUDDHI INDUSTRIES', 'UMIYA PACKAGING', 'KHAN PLASTIC', 'SHIV SHAKTI ENTERPRISES', 'KANISH PLASTIC', 'SUNSHINE PLASTICS', 'MOLDRITE INNOVATIONS PVT.LTD.', 'SIDDHIVINAYAK INDUSTRIES', 'FLUOROTHERMECH POLYMER', 'POLY ENGINEERING', 'BHAVIKA PLASTEK PVT.LTD.', 'MASS POLYMERS', 'INNO MOTION TECHNOLOGIES', 'SYMBIO PLAST INDIA PVT.LTD.', 'MOHAMAD PLASTICS PVT.LTD.', 'INNOCORP LTD.', 'BERAR POLYMER', 'GLS POLYMERS PVT.LTD.', 'GROWMAX INDIA PVT. LTD', 'HANGER SOLUTION PVT.LTD.', 'HINDUSTAN TRADERS', 'HOLLOWAY CONTAINERS', 'HOMELINE PRODUCTS', 'INSTA POLYPACK', 'JALORE PLASTICWARE', 'KINJAL PLAST COLOURS', 'V S RUBBER PRODUCTS', 'LUCKY POLY INDUSTRY', 'MADURAI SRI KAMATCHI PLASTIC PVT.LTD.', 'MAHEK PLAST', 'MODERN ENGINEERING WORKS', 'NITIN INDUSTRIES', 'OJHAT PLASTICS HOUSE', 'OM PLASTICS', 'PONDICHERRY POLYMERS PVT. LTD.', 'PRAKASH TECHNO PLAST INDIA PVT.LTD.', 'PRIYANKA POLYPACK', 'QUALITY PLAST INDUSTRIES', 'RADHASWAMI PLAST PRODUCTS  P. LTD.', 'RAJESHWARI PLASTPACK', 'RGK PLASTICS UDYOG PVT.LTD.', 'BARR PLASTIC INC.', 'GREEN FAB TECH SYSTEMS', 'KAYCEE PLASTO PACK', 'VARSA PLASTIC INDUSTRIES PVT.LTD.', 'AHUJA ENTERPRISES', 'SECURE CARD SOLUTIONS INDIA PVT.LTD.', 'MPL PLASTICS LTD.', 'PRAYAGA INDUSTRIES', 'BHM CORPORATION', 'SIVARAM FIBRE TECH PVT.LTD.', 'BHUPENDRA PLASTIC PRODUCTS', '4S PLASTIC RIBBON', 'ORIYON PLASTICS AND PACKAGING PRODUCTS PVT.LTD.', 'A.P. POLY PLAST PVT.LTD.', 'ACME HYDROPNEUMATICS', 'ALMED LABORATORIES PVT.LTD.', 'ALOKE RUB PLAST PVT.LTD.', 'AMARTEJ PLASTO TRADE PVT.LTD.', 'ARYAN INDUSTRIES', 'ASIAN ACRYLATES', 'AVADH PLSTOWARES PVT.LTD.', 'BALAJI PLASTIC', 'BRITO PLAST', 'SAVITA FIBRE', 'SHREE VARI MULTIPLAST INDIA P.LTD.', 'DEEPA GOPAL POLYMERS', 'DEEPJYOTI PLASTICS PVT.LTD.', 'DELTA PLASTICS', 'AJAY PLASTIC FLEXO PRINTS', 'JAYESH PLASTIC', 'AAKAR PLASTIC ARTS', 'ANANT CAPACITORS', 'EMMANUEL PLAST AND ELASTOMERS', 'ATHARV POLYMERS', 'BURAPLAST PACKAGING PVT. LTD.', 'A. V. PLASTIC EQUIPMENTS PVT. LTD.', 'ABBANI BEADS PVT.LTD.', 'RIGHT INDUSTRIES', 'CHOKHANI ENTERPRISES', 'HITECH GROUP', 'CHAITALI MOULDS AND DIES PVT.LTD.', 'KASAT PLASTIC', 'ESS AAR UNIVERSAL PVT.LTD.', 'POSITIVE PLASTICS PVT.LTD.']\n"
     ]
    }
   ],
   "source": [
    "titles=soup.find_all('div',class_='title')\n",
    "names=[]\n",
    "for title in titles:\n",
    "    name=title.a.get_text(strip='True')\n",
    "    names.append(name)\n",
    "print(names)"
   ]
  },
  {
   "cell_type": "code",
   "execution_count": 25,
   "id": "822fad3f-143b-4cbf-8c3d-f7edb458f3b5",
   "metadata": {},
   "outputs": [
    {
     "name": "stdout",
     "output_type": "stream",
     "text": [
      "Collecting openpyxl\n",
      "  Downloading openpyxl-3.1.4-py2.py3-none-any.whl.metadata (2.5 kB)\n",
      "Collecting et-xmlfile (from openpyxl)\n",
      "  Downloading et_xmlfile-1.1.0-py3-none-any.whl.metadata (1.8 kB)\n",
      "Downloading openpyxl-3.1.4-py2.py3-none-any.whl (251 kB)\n",
      "   ---------------------------------------- 0.0/251.4 kB ? eta -:--:--\n",
      "   ---- ----------------------------------- 30.7/251.4 kB 1.3 MB/s eta 0:00:01\n",
      "   --------- ----------------------------- 61.4/251.4 kB 544.7 kB/s eta 0:00:01\n",
      "   -------------- ------------------------ 92.2/251.4 kB 655.4 kB/s eta 0:00:01\n",
      "   ------------------ ------------------- 122.9/251.4 kB 722.1 kB/s eta 0:00:01\n",
      "   ------------------ ------------------- 122.9/251.4 kB 722.1 kB/s eta 0:00:01\n",
      "   ------------------ ------------------- 122.9/251.4 kB 722.1 kB/s eta 0:00:01\n",
      "   ------------------ ------------------- 122.9/251.4 kB 722.1 kB/s eta 0:00:01\n",
      "   -------------------------- ----------- 174.1/251.4 kB 436.9 kB/s eta 0:00:01\n",
      "   -------------------------------------- 251.4/251.4 kB 571.4 kB/s eta 0:00:00\n",
      "Downloading et_xmlfile-1.1.0-py3-none-any.whl (4.7 kB)\n",
      "Installing collected packages: et-xmlfile, openpyxl\n",
      "Successfully installed et-xmlfile-1.1.0 openpyxl-3.1.4\n"
     ]
    }
   ],
   "source": [
    "!pip install openpyxl\n"
   ]
  },
  {
   "cell_type": "code",
   "execution_count": 26,
   "id": "f5bf65fd-63a1-4f24-af07-fbf07149ddc7",
   "metadata": {},
   "outputs": [],
   "source": [
    "import openpyxl\n"
   ]
  },
  {
   "cell_type": "code",
   "execution_count": 39,
   "id": "3ef2c9c8-64e5-42f5-a7fc-9bc0d6e2faa1",
   "metadata": {},
   "outputs": [],
   "source": [
    "df = pd.DataFrame(columns=['Company Name', 'Contact Name', 'Contact Number'])\n",
    "df['Company Name'] = names\n"
   ]
  },
  {
   "cell_type": "code",
   "execution_count": 45,
   "id": "8c5b0122-6099-408a-a09f-9a8d8f34b2c1",
   "metadata": {},
   "outputs": [
    {
     "name": "stdout",
     "output_type": "stream",
     "text": [
      "['Contact Person: MR.SUNIL MAHAJAN / MR.B.B.POKALE', 'Contact Person: MR. SUNDEEP LAKHANI - DIRECTOR', 'Contact Person: MR.DHARMARAJ GAIKWAD - DIRECTOR', 'Contact Person: MR.DIPESH A.MEHTA - PROP.', 'Contact Person: MR.B.L.KARADI / MR.RAVI KARADI - M.D.', 'Contact Person: MR.DIPESH A.MEHTA - PROP. / MR. SACHIN DOSHI', 'Contact Person: MR.SUBODH BODHANKAR / MR.UMESH KULKARNI', 'Contact Person: MS.PRIYA OBEROI - DIRECTOR', 'Contact Person: MR.ASHOK SHITOLE', 'Contact Person: MR.SUSHIL PATANI - PARTNER', 'Contact Person: MR.VIKRAM MAV', 'Contact Person: MR. JASPREET', 'Contact Person:', 'Contact Person: MR. DANIEL FERNANDES / MR. KARTIK RAJPUT (MANAGER)', 'Contact Person: MR. SAJID CHAUDHARY', 'Contact Person: MR. NITIN BHARAMBE', 'Contact Person: MR. RAJU T', 'Contact Person: MR. SRINIVASAN', 'Contact Person: MR.BHUSHAN\\xa0RASAL', 'Contact Person: MR. MEET JATIN GANDHI / MR. JATIN N. GANDHI', 'Contact Person: MR. SHIVANSH SINKU', 'Contact Person: MR. JITENDRA MUNIJARLAL SAROJ (DIRECTOR)', 'Contact Person: MR. JAY MUKUND MEHTA', 'Contact Person: MR. NARENDRA DEWANI', 'Contact Person: MR. MAHESH PATIL', 'Contact Person: MR. NANAJI PAWAR', 'Contact Person: MR. NILESH SHETE', 'Contact Person: MR. KIRAN (MANAGER)', 'Contact Person: NOSAD ANSARI/MUNNAWAR ANSARI', 'Contact Person: GOPAL SINGH RAGHUVANSHI / DHANRAJ RAGHUVANSHI', 'Contact Person: MR. SHRISH AGRAWAL / MR. SWARAJ KOTHARI', 'Contact Person: MR. UMANG POKAR', 'Contact Person: PRASANNA RAIKER, MEGHNA RAIKER', 'Contact Person: MR. DIGANT GARODIA', 'Contact Person: MR. M.R. PATEL  /  MR. B.R. PATEL', 'Contact Person: MR. JATIN MODI / MR. GAUTAM MODI', 'Contact Person: MR. K MOHNISH', 'Contact Person: MR. SANJAY RANGNATH GAIKAR', 'Contact Person: MR. L.B. HONMORE', 'Contact Person: MR. OMPRAKASH MALU', 'Contact Person: MR. SHETUL V.A.', 'Contact Person: MR. HUZEFA KHAN', 'Contact Person: MR. SIDDHESH MISTRY (SALES HEAD)', 'Contact Person: MR. DURAI KANNAN', 'Contact Person: MR. ABHISHEK', 'Contact Person: MR. JORDY JOSEPH', 'Contact Person:', 'Contact Person: MR.SACHIN BHOSALE', 'Contact Person: MR.CHAITANYA KADAM / MR.KIRAN LIMBHORE', 'Contact Person: MR. CH. KAMESWARA RAO', 'Contact Person: MR. UDAY M. CHHATBAR', 'Contact Person:', 'Contact Person:', 'Contact Person:', 'Contact Person: MRS.KOVELMUDI SARASWATHI  (EXECUTIVE DIRECTOR)', 'Contact Person: MR. MANGESH GHANOKAR', 'Contact Person: MR. GANESH.M ( MANAGING DIRECTOR)', 'Contact Person: MR. PAWAN KUMAR AGARWAL (CMD)', 'Contact Person: MR. SAILESH KAPASI (DIRECTOR)', 'Contact Person: MR. MADHUKAR KOTHARI / MR. AJIT KOTHARI', 'Contact Person: MR. SUNIL SHAH / MR. ROHAN SHAH', 'Contact Person: MR. KANAK NIRMAL / MR. KETAN NIRMAL', 'Contact Person: MR. PRADEEP KUMAR JAIN (CEO)', 'Contact Person: MR. MAHENDRA V. SAKARIYA', 'Contact Person: MR. KIRTI B. SHAH', 'Contact Person: MR. V E VARGHESE', 'Contact Person: MR. LOHANATHAN K. S. (MD)', 'Contact Person: MR. A.GAJENDRAN.B.B.A (MD)', 'Contact Person: MR. VIRAL SHAH / MR. VIMAL SHAH', 'Contact Person: MR. MANISH NALEKAR  / MR. HEMNAT NALEKAR', 'Contact Person: MR. HEMANT MEHTA', 'Contact Person: MR. SHIV PRAKASH SHARMA', 'Contact Person: MR. ROUHIT  / MR. DHRUV', 'Contact Person: MR. ARUN KUMAR KAINYA (MD)', 'Contact Person: MR. PRAKASH M. VALECHA (MD)', 'Contact Person: MR. PRASHANT JAIN (PROPRIETOR)', 'Contact Person: MR. RAM PATIL  / MR. DAYANAND PATIL', 'Contact Person: MR. ANIL KUMAR GUPTA (DIRECTOR)', 'Contact Person: MR. AMISH SANGHVI', 'Contact Person: MR ASHOK KUMAR KOTHARI (DIRECTOR)', 'Contact Person:', 'Contact Person: MR. HARSHAD DESHPANDE', 'Contact Person:', 'Contact Person: MR. SACHIN RAMESH VAIDYA (MANAGING DIRECTOR)', 'Contact Person:', 'Contact Person: MR. RAJESH GUPTE', 'Contact Person:  MR. PANKAJ', 'Contact Person: MR. P B RAJMOHAN', 'Contact Person: MR. S. FEROZ KHAN', 'Contact Person: MR. KUPPUSWAMY', 'Contact Person:', 'Contact Person: MR. SAMAR (MD)', 'Contact Person: MRS. LAXMI K. PILLAI', 'Contact Person: MR. ASHOK BANSAL (DIRECTOR)', 'Contact Person: MR. SHAIKH MODH JUNAID', 'Contact Person: MR. MUKAND SWARUP / MR. MAHESH JOSHI', 'Contact Person: MR. ATUL TANNA / MR. AJAY TANNA (DIRECTOR)', 'Contact Person: MR. MUKESH SHAH (DIRECTOR)', 'Contact Person: MR. ALPESH G. DOSHI (DIRECTOR) / MR. VIPUL G. DOSHI (CEO)', 'Contact Person: MR. HIRENDRA V. DOHSI / MR. KAUSHALH DOSHI', 'Contact Person: MR. MOHIT BANSAL (DIRECTOR)', 'Contact Person: MR. RAJESH KUMAR / MR. AIT GUPTA', 'Contact Person: MR. KETAN AJMERA (PARTNER)', 'Contact Person:', 'Contact Person: MR. V. SENTHIL MURUGAN (MD) / MR. S. VIVEK KARTHIK', 'Contact Person: MR. MUKESH SHAHRI', 'Contact Person: MR. AVADH KUMAR TAYAL (DIRECTOR) / MRS. ANSHU TAYAL (DIRECTOR)', 'Contact Person: MR. LAXMICHAND NAGDA (DIRECTOR)', 'Contact Person: MR. RAVI DHAWAN', 'Contact Person: MR.JAYESH BHANGALE', 'Contact Person: MR. ASHWIN THAKKAR', 'Contact Person:', 'Contact Person: MR. PRASHANT BANKAR', 'Contact Person: MR. ARVIND KOTHARI / D.K.KOTHARI', 'Contact Person: MR. SHOBHIT BURMAN', 'Contact Person: MR. A. R. PILLAI', 'Contact Person: MR. DHARMENDRA ABBANI', 'Contact Person: MR. VINIT GINDRA', 'Contact Person: MR. YOGESH K. CHOKHANI', 'Contact Person: MR. RITESH JOSHI', 'Contact Person: MR. SARAT CHANDRA LAKAMSANI', 'Contact Person: MR. RAVIKANT KASAT', 'Contact Person:', 'Contact Person: MR. SANDEEP RAGHUYAL']\n"
     ]
    }
   ],
   "source": [
    "contact_sect=soup.find_all('div',class_='contactname')\n",
    "contact_names=[]\n",
    "for name in contact_sect:\n",
    "    contact_name=name.span.get_text(strip='True')\n",
    "    contact_names.append(contact_name)\n",
    "print(contact_names)"
   ]
  },
  {
   "cell_type": "code",
   "execution_count": 41,
   "id": "7da2fdd7-4618-4f18-ab22-9808254c81e8",
   "metadata": {},
   "outputs": [],
   "source": [
    "df['Contact Name'] = contact_names"
   ]
  },
  {
   "cell_type": "code",
   "execution_count": 35,
   "id": "8852f4f2-c00d-473b-9bfa-d8b5abdcc818",
   "metadata": {},
   "outputs": [
    {
     "name": "stdout",
     "output_type": "stream",
     "text": [
      "['Tel No.  - 9689895208 / 9689895209', 'www.saiprecisiontools.com', 'Tel No. 20 - 27471217 / 27460890 / 9823032403', 'www.pradipplastic.com', 'Tel No.  - 9011080603 / 9011060910', 'www.pvgautomotive.com', 'Tel No. 022 - 23112335 / 23422469', 'www.vdipesh.com', 'Tel No. 20 - 26981038 / 8805985298 / 9850846009', 'www.niruplasticindia.com', 'Tel No. 022 - 23422469 / 23112335 / 9323276714 / 9322228822 / 9374771067', 'www.vdipesh.com', 'Tel No.  - 9822607080 / 7798955566 / 9822553183', 'Tel No.  - 9922908891', 'Tel No.  - 9011679479', 'www.anjalienterprisespune.com', 'Tel No. 022 - 66340761 / 23437616 / 9322669441 / 9324385379', 'www.metalonmarketing.com', 'Tel No. 022 - 67993376 / 25578526 / 9967029966', 'www.vikraminds.com', 'Tel No. 0 - 9811427736/9891177840', 'Tel No. 44 - 66444444', 'Tel No. 022 - 66415000 / 66415068 / 9930007162', 'Tel No. 0 - 9923130203', 'Tel No.  - 8424026099', 'Tel No.  - 8876727003', 'Tel No.  - 7200229309', 'Tel No.  - 7715998127', 'Tel No. 0 - 9769284760 / 9773610535 / 8779682835', 'Tel No. 0 - 8709553016 / 8442066532', 'Tel No. 0 - 8692926448', 'Tel No. 0 - 9867243880 / 9867343881', 'Tel No. 0 - 9920191912', 'Tel No.  - 9604166888', 'Tel No.  - 9403950018', 'Tel No.  - 7507537868', 'Tel No. 0 - 9986398148', 'Tel No. 91 - 9301655555', 'Tel No. 91 - 9300330033', 'Tel No. 0 - 9425064065', 'Tel No.  - 7972717385', 'Tel No. 0 - 9893133997', 'Tel No. 0 - 9821753519 / 9021397308', 'Tel No. 0 - 9923714077 / 9326699385', 'Tel No. 0 - 9870774661', 'Tel No.  - 7249122926', 'Tel No.  - 9657002108', 'Tel No.  - 9372645429', 'Tel No. 0233 - 2644905/2644217', 'Tel No.  - 9921188880', 'Tel No.  - 8766765726', 'Tel No. 0 - 9833079248', 'Tel No.  - 9894525599', 'Tel No. 044 - 42084250, 25385141', 'Tel No. 0 - 9880811339 /9745237349', 'Tel No. 0 - 9823051186', 'Tel No. 020 - 66307414 / 66307415 / 9623161318 / 8421961580', 'Tel No.  - 8796065453 / 7083320405', 'Tel No. 0 - 9177151511', 'Tel No. 080 - 41659869, 9945063136', 'Tel No. 0484 - 2627293,2629693,2630406', 'Tel No. 040 - 23745005', 'Tel No. 040 - 23080000', 'Tel No. 040 - 65990114 / 27158152', 'Tel No. 0 - 7972135254', 'Tel No. 080 - 41735691', 'Tel No. 0 - 9810139939', 'Tel No. 022 - 26852044 / 48', 'Tel No. 022 - 28686460 / 28682476', 'Tel No. 022 - 26122591 / 92', 'Tel No. 022 - 28757086', 'Tel No. 0141 - 271 2450', 'Tel No. 080 - 26746612', 'Tel No.  - 9820129210', 'Tel No. 0 - 9363104795', 'Tel No. 0421 - 2476946', 'Tel No. 0 - 9543397333', 'Tel No. 022 - 28072096', 'Tel No. 0 - 9969831263', 'Tel No. 022 - 28349362', 'Tel No. 022 - 28521229 / 28596504 / 05', 'Tel No. 0 - 9846600690', 'Tel No. 044 - 28557733 / 30927214', 'Tel No. 0 - 8048764541', 'Tel No. 0731 - 6561507', 'Tel No. 0 - 8411035111', 'Tel No. 0512 - 2691817 / 2214430 / 2214750', 'Tel No. 0250 - 4077073', 'Tel No. 0542 - 2634045', 'Tel No.  - 8006654499', 'Tel No.  - 7710802372', 'Tel No. 0 - 9443367248, 9443152825', 'Tel No. 0240 - 2557090 / 2557094', 'Tel No. 0161 - 4346000-10', 'Tel No.  - 9920333088', 'Tel No. 022 - 28455450, 28458967', 'Tel No. 022 - 28506041', 'Tel No. 0422 - 4366956/ 4366976', 'Tel No. 044 - 65901504', 'Tel No. 044 - 65478837', 'Tel No. 0 - 9718653891', 'Tel No. 0832 - 2284646/5378', 'Tel No. 011 - 25481599', 'Tel No. 0250 - 320481 / 2391945 / 9821218862', 'Tel No. 01704 - 223694', 'Tel No. 022 - 28906272 / 28957373', 'Tel No. 022 - 28811299', 'Tel No. 022 - 25942925', 'Tel No. 022 - 28625786 / 28620117', 'Tel No. 0 - 9415005839', 'Tel No. 0 - 9136476860', 'Tel No. 022 - 28387326 / 28241607', 'Tel No. 0251 - 2682381', 'Tel No. 04294 - 220945, 223191, 225355', 'Tel No. 022 - 26102013', 'Tel No. 022 - 28325422', 'Tel No. 022 - 25902009', 'Tel No. 0771 - 2225243, 4055540', 'Tel No.  - 9028169247', 'Tel No. 020 - 26930749', 'Tel No. 020 - 26359028', 'Tel No. 020 - 27486560', 'Tel No. 0731 - 2720818', 'Tel No. 07292 - 252337, 401264', 'Tel No. 022 - 27711862/ 27783070', 'Tel No. 022 - 22423410', 'Tel No. 0 - 8080180111', 'Tel No. 0731 - 2720556, 2247067', 'Tel No. 0 - 9004901310', 'Tel No. 040 - 31053499 / 33033939', 'Tel No. 022 - 28471438/1510', 'Tel No. 0120 - 2896012', 'Tel No. 0120 - 4254875']\n"
     ]
    }
   ],
   "source": [
    "contact_num_sec=soup.find_all('div',class_='contactno')\n",
    "contact_nums=[]\n",
    "for name in contact_num_sec:\n",
    "    contact_num=name.span.get_text(strip='True')\n",
    "    contact_nums.append(contact_num)\n",
    "print(contact_nums)"
   ]
  },
  {
   "cell_type": "code",
   "execution_count": 36,
   "id": "06d0d74a-ac0b-400d-9e51-2ea93842bf75",
   "metadata": {},
   "outputs": [
    {
     "ename": "ValueError",
     "evalue": "Length of values (133) does not match length of index (124)",
     "output_type": "error",
     "traceback": [
      "\u001b[1;31m---------------------------------------------------------------------------\u001b[0m",
      "\u001b[1;31mValueError\u001b[0m                                Traceback (most recent call last)",
      "Cell \u001b[1;32mIn[36], line 1\u001b[0m\n\u001b[1;32m----> 1\u001b[0m \u001b[43mdf\u001b[49m\u001b[43m[\u001b[49m\u001b[38;5;124;43m'\u001b[39;49m\u001b[38;5;124;43mContact Number\u001b[39;49m\u001b[38;5;124;43m'\u001b[39;49m\u001b[43m]\u001b[49m \u001b[38;5;241m=\u001b[39m contact_nums\n",
      "File \u001b[1;32mc:\\users\\jaswa\\appdata\\local\\programs\\python\\python38\\lib\\site-packages\\pandas\\core\\frame.py:3950\u001b[0m, in \u001b[0;36mDataFrame.__setitem__\u001b[1;34m(self, key, value)\u001b[0m\n\u001b[0;32m   3947\u001b[0m     \u001b[38;5;28mself\u001b[39m\u001b[38;5;241m.\u001b[39m_setitem_array([key], value)\n\u001b[0;32m   3948\u001b[0m \u001b[38;5;28;01melse\u001b[39;00m:\n\u001b[0;32m   3949\u001b[0m     \u001b[38;5;66;03m# set column\u001b[39;00m\n\u001b[1;32m-> 3950\u001b[0m     \u001b[38;5;28;43mself\u001b[39;49m\u001b[38;5;241;43m.\u001b[39;49m\u001b[43m_set_item\u001b[49m\u001b[43m(\u001b[49m\u001b[43mkey\u001b[49m\u001b[43m,\u001b[49m\u001b[43m \u001b[49m\u001b[43mvalue\u001b[49m\u001b[43m)\u001b[49m\n",
      "File \u001b[1;32mc:\\users\\jaswa\\appdata\\local\\programs\\python\\python38\\lib\\site-packages\\pandas\\core\\frame.py:4143\u001b[0m, in \u001b[0;36mDataFrame._set_item\u001b[1;34m(self, key, value)\u001b[0m\n\u001b[0;32m   4133\u001b[0m \u001b[38;5;28;01mdef\u001b[39;00m \u001b[38;5;21m_set_item\u001b[39m(\u001b[38;5;28mself\u001b[39m, key, value) \u001b[38;5;241m-\u001b[39m\u001b[38;5;241m>\u001b[39m \u001b[38;5;28;01mNone\u001b[39;00m:\n\u001b[0;32m   4134\u001b[0m \u001b[38;5;250m    \u001b[39m\u001b[38;5;124;03m\"\"\"\u001b[39;00m\n\u001b[0;32m   4135\u001b[0m \u001b[38;5;124;03m    Add series to DataFrame in specified column.\u001b[39;00m\n\u001b[0;32m   4136\u001b[0m \n\u001b[1;32m   (...)\u001b[0m\n\u001b[0;32m   4141\u001b[0m \u001b[38;5;124;03m    ensure homogeneity.\u001b[39;00m\n\u001b[0;32m   4142\u001b[0m \u001b[38;5;124;03m    \"\"\"\u001b[39;00m\n\u001b[1;32m-> 4143\u001b[0m     value \u001b[38;5;241m=\u001b[39m \u001b[38;5;28;43mself\u001b[39;49m\u001b[38;5;241;43m.\u001b[39;49m\u001b[43m_sanitize_column\u001b[49m\u001b[43m(\u001b[49m\u001b[43mvalue\u001b[49m\u001b[43m)\u001b[49m\n\u001b[0;32m   4145\u001b[0m     \u001b[38;5;28;01mif\u001b[39;00m (\n\u001b[0;32m   4146\u001b[0m         key \u001b[38;5;129;01min\u001b[39;00m \u001b[38;5;28mself\u001b[39m\u001b[38;5;241m.\u001b[39mcolumns\n\u001b[0;32m   4147\u001b[0m         \u001b[38;5;129;01mand\u001b[39;00m value\u001b[38;5;241m.\u001b[39mndim \u001b[38;5;241m==\u001b[39m \u001b[38;5;241m1\u001b[39m\n\u001b[0;32m   4148\u001b[0m         \u001b[38;5;129;01mand\u001b[39;00m \u001b[38;5;129;01mnot\u001b[39;00m is_extension_array_dtype(value)\n\u001b[0;32m   4149\u001b[0m     ):\n\u001b[0;32m   4150\u001b[0m         \u001b[38;5;66;03m# broadcast across multiple columns if necessary\u001b[39;00m\n\u001b[0;32m   4151\u001b[0m         \u001b[38;5;28;01mif\u001b[39;00m \u001b[38;5;129;01mnot\u001b[39;00m \u001b[38;5;28mself\u001b[39m\u001b[38;5;241m.\u001b[39mcolumns\u001b[38;5;241m.\u001b[39mis_unique \u001b[38;5;129;01mor\u001b[39;00m \u001b[38;5;28misinstance\u001b[39m(\u001b[38;5;28mself\u001b[39m\u001b[38;5;241m.\u001b[39mcolumns, MultiIndex):\n",
      "File \u001b[1;32mc:\\users\\jaswa\\appdata\\local\\programs\\python\\python38\\lib\\site-packages\\pandas\\core\\frame.py:4870\u001b[0m, in \u001b[0;36mDataFrame._sanitize_column\u001b[1;34m(self, value)\u001b[0m\n\u001b[0;32m   4867\u001b[0m     \u001b[38;5;28;01mreturn\u001b[39;00m _reindex_for_setitem(Series(value), \u001b[38;5;28mself\u001b[39m\u001b[38;5;241m.\u001b[39mindex)\n\u001b[0;32m   4869\u001b[0m \u001b[38;5;28;01mif\u001b[39;00m is_list_like(value):\n\u001b[1;32m-> 4870\u001b[0m     \u001b[43mcom\u001b[49m\u001b[38;5;241;43m.\u001b[39;49m\u001b[43mrequire_length_match\u001b[49m\u001b[43m(\u001b[49m\u001b[43mvalue\u001b[49m\u001b[43m,\u001b[49m\u001b[43m \u001b[49m\u001b[38;5;28;43mself\u001b[39;49m\u001b[38;5;241;43m.\u001b[39;49m\u001b[43mindex\u001b[49m\u001b[43m)\u001b[49m\n\u001b[0;32m   4871\u001b[0m \u001b[38;5;28;01mreturn\u001b[39;00m sanitize_array(value, \u001b[38;5;28mself\u001b[39m\u001b[38;5;241m.\u001b[39mindex, copy\u001b[38;5;241m=\u001b[39m\u001b[38;5;28;01mTrue\u001b[39;00m, allow_2d\u001b[38;5;241m=\u001b[39m\u001b[38;5;28;01mTrue\u001b[39;00m)\n",
      "File \u001b[1;32mc:\\users\\jaswa\\appdata\\local\\programs\\python\\python38\\lib\\site-packages\\pandas\\core\\common.py:576\u001b[0m, in \u001b[0;36mrequire_length_match\u001b[1;34m(data, index)\u001b[0m\n\u001b[0;32m    572\u001b[0m \u001b[38;5;250m\u001b[39m\u001b[38;5;124;03m\"\"\"\u001b[39;00m\n\u001b[0;32m    573\u001b[0m \u001b[38;5;124;03mCheck the length of data matches the length of the index.\u001b[39;00m\n\u001b[0;32m    574\u001b[0m \u001b[38;5;124;03m\"\"\"\u001b[39;00m\n\u001b[0;32m    575\u001b[0m \u001b[38;5;28;01mif\u001b[39;00m \u001b[38;5;28mlen\u001b[39m(data) \u001b[38;5;241m!=\u001b[39m \u001b[38;5;28mlen\u001b[39m(index):\n\u001b[1;32m--> 576\u001b[0m     \u001b[38;5;28;01mraise\u001b[39;00m \u001b[38;5;167;01mValueError\u001b[39;00m(\n\u001b[0;32m    577\u001b[0m         \u001b[38;5;124m\"\u001b[39m\u001b[38;5;124mLength of values \u001b[39m\u001b[38;5;124m\"\u001b[39m\n\u001b[0;32m    578\u001b[0m         \u001b[38;5;124mf\u001b[39m\u001b[38;5;124m\"\u001b[39m\u001b[38;5;124m(\u001b[39m\u001b[38;5;132;01m{\u001b[39;00m\u001b[38;5;28mlen\u001b[39m(data)\u001b[38;5;132;01m}\u001b[39;00m\u001b[38;5;124m) \u001b[39m\u001b[38;5;124m\"\u001b[39m\n\u001b[0;32m    579\u001b[0m         \u001b[38;5;124m\"\u001b[39m\u001b[38;5;124mdoes not match length of index \u001b[39m\u001b[38;5;124m\"\u001b[39m\n\u001b[0;32m    580\u001b[0m         \u001b[38;5;124mf\u001b[39m\u001b[38;5;124m\"\u001b[39m\u001b[38;5;124m(\u001b[39m\u001b[38;5;132;01m{\u001b[39;00m\u001b[38;5;28mlen\u001b[39m(index)\u001b[38;5;132;01m}\u001b[39;00m\u001b[38;5;124m)\u001b[39m\u001b[38;5;124m\"\u001b[39m\n\u001b[0;32m    581\u001b[0m     )\n",
      "\u001b[1;31mValueError\u001b[0m: Length of values (133) does not match length of index (124)"
     ]
    }
   ],
   "source": [
    "df['Contact Number'] = contact_nums"
   ]
  },
  {
   "cell_type": "code",
   "execution_count": null,
   "id": "65748c0b-fa75-4965-8482-25355db41c8a",
   "metadata": {},
   "outputs": [],
   "source": [
    "excel_file=r\"C:\\Users\\jaswa\\Downloads\\plastics_manufacturing_list.xlsx\"\n",
    "df.to_excel(excel_file,index=False)"
   ]
  },
  {
   "cell_type": "code",
   "execution_count": null,
   "id": "fe459b26-bbb7-432b-a9ef-fe25874c161b",
   "metadata": {},
   "outputs": [],
   "source": [
    "print(f'Company names have been written to {excel_file}')"
   ]
  },
  {
   "cell_type": "code",
   "execution_count": null,
   "id": "f9b11d81-94c5-49ff-b310-a131431a7ecd",
   "metadata": {},
   "outputs": [],
   "source": []
  },
  {
   "cell_type": "code",
   "execution_count": null,
   "id": "de3d7edc-4450-4027-a16a-4adfbf2e4ec4",
   "metadata": {},
   "outputs": [],
   "source": []
  },
  {
   "cell_type": "code",
   "execution_count": null,
   "id": "90639082-8562-483d-81b2-ecb6f9e8c130",
   "metadata": {},
   "outputs": [],
   "source": []
  },
  {
   "cell_type": "code",
   "execution_count": null,
   "id": "e4119767-6ed6-465a-b1e4-ff90884d37c5",
   "metadata": {},
   "outputs": [],
   "source": []
  },
  {
   "cell_type": "code",
   "execution_count": null,
   "id": "c9d8b281-9434-464e-8718-fa9e483f8973",
   "metadata": {},
   "outputs": [],
   "source": []
  },
  {
   "cell_type": "code",
   "execution_count": null,
   "id": "7a3b0b0a-2c45-46a8-9958-33ce0f993993",
   "metadata": {},
   "outputs": [],
   "source": []
  },
  {
   "cell_type": "code",
   "execution_count": null,
   "id": "f0d40f82-22b2-4a41-94b2-3269f32748a3",
   "metadata": {},
   "outputs": [],
   "source": []
  },
  {
   "cell_type": "code",
   "execution_count": null,
   "id": "a4184441-e8b7-4153-b7cd-c3f0a618fcb5",
   "metadata": {},
   "outputs": [],
   "source": []
  },
  {
   "cell_type": "code",
   "execution_count": null,
   "id": "a2372d07-c434-478b-abe8-d368c09508cd",
   "metadata": {},
   "outputs": [],
   "source": []
  },
  {
   "cell_type": "code",
   "execution_count": null,
   "id": "52b138f6-6670-40ba-873f-95465c8cbca9",
   "metadata": {},
   "outputs": [],
   "source": []
  },
  {
   "cell_type": "code",
   "execution_count": null,
   "id": "c4f1889b-fc2a-4de8-a1c9-5c295a40d7e3",
   "metadata": {},
   "outputs": [],
   "source": []
  },
  {
   "cell_type": "code",
   "execution_count": null,
   "id": "5d871e8d-5c3c-4f5d-8c69-d25dbc623c29",
   "metadata": {},
   "outputs": [],
   "source": []
  },
  {
   "cell_type": "code",
   "execution_count": null,
   "id": "f4f3bec9-74b6-4e6f-a97f-31abd289b845",
   "metadata": {},
   "outputs": [],
   "source": []
  }
 ],
 "metadata": {
  "kernelspec": {
   "display_name": "Python 3 (ipykernel)",
   "language": "python",
   "name": "python3"
  },
  "language_info": {
   "codemirror_mode": {
    "name": "ipython",
    "version": 3
   },
   "file_extension": ".py",
   "mimetype": "text/x-python",
   "name": "python",
   "nbconvert_exporter": "python",
   "pygments_lexer": "ipython3",
   "version": "3.8.10"
  }
 },
 "nbformat": 4,
 "nbformat_minor": 5
}
